{
 "cells": [
  {
   "cell_type": "code",
   "execution_count": 71,
   "metadata": {},
   "outputs": [],
   "source": [
    "from jiwer import wer\n",
    "import speech_recognition as sr\n",
    "import os\n",
    "import matplotlib.pyplot as plt\n",
    "import numpy as np"
   ]
  },
  {
   "cell_type": "code",
   "execution_count": 58,
   "metadata": {},
   "outputs": [],
   "source": [
    "def audio_reco(file, lang):\n",
    "    r = sr.Recognizer()\n",
    "    with sr.AudioFile(file) as source:\n",
    "        try:\n",
    "            audio_data = r.record(source)\n",
    "            query = r.recognize_google(audio_data, language=lang)\n",
    "            return query.lower()\n",
    "        except sr.UnknownValueError:\n",
    "            return \"\""
   ]
  },
  {
   "cell_type": "code",
   "execution_count": 93,
   "metadata": {},
   "outputs": [
    {
     "name": "stdout",
     "output_type": "stream",
     "text": [
      "obroc sie w miejscu go backward and turn left\n",
      "1.25\n"
     ]
    }
   ],
   "source": [
    "reference = \"obroc sie w miejscu\"\n",
    "hypothesis = audio_reco(\"public/chin_speed_pitch/go_backward_and_turn_left.wav\", \"en-US\")\n",
    "\n",
    "error = wer(reference, hypothesis)\n",
    "print(reference, hypothesis)\n",
    "print(error)"
   ]
  },
  {
   "cell_type": "code",
   "execution_count": 20,
   "metadata": {},
   "outputs": [
    {
     "name": "stdout",
     "output_type": "stream",
     "text": [
      "['chin_speed_pitch', 'eng_norm', 'pol', 'eng_fast', 'indian_acc']\n"
     ]
    }
   ],
   "source": [
    "public_list = os.listdir(\"public\")\n",
    "folders=[]\n",
    "for folder in public_list:\n",
    "    if folder.find(\".\")==-1:\n",
    "        folders.append(folder)\n",
    "print(folders)"
   ]
  },
  {
   "cell_type": "code",
   "execution_count": 59,
   "metadata": {},
   "outputs": [
    {
     "name": "stdout",
     "output_type": "stream",
     "text": [
      "('chin_speed_pitch', [['public/chin_speed_pitch/spin_in_place.wav', 'public/chin_speed_pitch/go_forward.wav', 'public/chin_speed_pitch/stop.wav', 'public/chin_speed_pitch/go_backward_and_turn_right.wav', 'public/chin_speed_pitch/go_backward.wav', 'public/chin_speed_pitch/start_moving_forward.wav', 'public/chin_speed_pitch/go_forward_and_turn_left.wav', 'public/chin_speed_pitch/speed_05.wav', 'public/chin_speed_pitch/go_backward_and_turn_left.wav', 'public/chin_speed_pitch/go_forward_and_turn_right.wav'], ['spin in place', 'go forward', 'stop', 'go backward and turn right', 'go backward', 'start moving forward', 'go forward and turn left', 'speed 05', 'go backward and turn left', 'go forward and turn right']])\n",
      "('eng_norm', [['public/eng_norm/spin_in_place.wav', 'public/eng_norm/go_forward.wav', 'public/eng_norm/stop.wav', 'public/eng_norm/go_backward_and_turn_right.wav', 'public/eng_norm/go_backward.wav', 'public/eng_norm/start_moving_forward.wav', 'public/eng_norm/go_forward_and_turn_left.wav', 'public/eng_norm/speed_05.wav', 'public/eng_norm/go_backward_and_turn_left.wav', 'public/eng_norm/go_forward_and_turn_right.wav'], ['spin in place', 'go forward', 'stop', 'go backward and turn right', 'go backward', 'start moving forward', 'go forward and turn left', 'speed 05', 'go backward and turn left', 'go forward and turn right']])\n",
      "('pol', [['public/pol/jedz_do_przodu_i_skrec_w_lewo.wav', 'public/pol/zacznij_ruch.wav', 'public/pol/jedz_do_tylu_i_skrec_w_lewo.wav', 'public/pol/predkosc_05.wav', 'public/pol/jedz_naprzod.wav', 'public/pol/jedz_do_tylu.wav', 'public/pol/zatrzymaj_sie.wav', 'public/pol/jedz_do_tylu_i_skrec_w_prawo.wav', 'public/pol/jedz_do_przodu_i_skrec_w_prawo.wav', 'public/pol/obroc_sie_w_miejscu.wav'], ['jedz do przodu i skrec w lewo', 'zacznij ruch', 'jedz do tylu i skrec w lewo', 'predkosc 05', 'jedz naprzod', 'jedz do tylu', 'zatrzymaj sie', 'jedz do tylu i skrec w prawo', 'jedz do przodu i skrec w prawo', 'obroc sie w miejscu']])\n",
      "('eng_fast', [['public/eng_fast/spin_in_place.wav', 'public/eng_fast/go_forward.wav', 'public/eng_fast/stop.wav', 'public/eng_fast/go_backward_and_turn_right.wav', 'public/eng_fast/go_backward.wav', 'public/eng_fast/start_moving_forward.wav', 'public/eng_fast/go_forward_and_turn_left.wav', 'public/eng_fast/speed_05.wav', 'public/eng_fast/go_backward_and_turn_left.wav', 'public/eng_fast/go_forward_and_turn_right.wav'], ['spin in place', 'go forward', 'stop', 'go backward and turn right', 'go backward', 'start moving forward', 'go forward and turn left', 'speed 05', 'go backward and turn left', 'go forward and turn right']])\n",
      "('indian_acc', [['public/indian_acc/spin_in_place.wav', 'public/indian_acc/go_forward.wav', 'public/indian_acc/stop.wav', 'public/indian_acc/go_backward_and_turn_right.wav', 'public/indian_acc/go_backward.wav', 'public/indian_acc/start_moving_forward.wav', 'public/indian_acc/go_forward_and_turn_left.wav', 'public/indian_acc/speed_05.wav', 'public/indian_acc/go_backward_and_turn_left.wav', 'public/indian_acc/go_forward_and_turn_right.wav'], ['spin in place', 'go forward', 'stop', 'go backward and turn right', 'go backward', 'start moving forward', 'go forward and turn left', 'speed 05', 'go backward and turn left', 'go forward and turn right']])\n"
     ]
    }
   ],
   "source": [
    "chin_speed_pitch = [] #Hong Kong English acc, pitch:+20, speed:0.5\n",
    "eng_norm = [] #English US\n",
    "pol = [] #Polish\n",
    "eng_fast = [] # English US, speed 2.0\n",
    "indian_acc = [] #Indian English acc\n",
    "list_of_lists = []\n",
    "for id, f in enumerate(folders):\n",
    "    list_name = os.listdir(f\"public/{f}\")\n",
    "    names=[]\n",
    "    files=[]\n",
    "    for item in list_name:\n",
    "        files.append(f\"public/{f}/{item}\")\n",
    "        names.append((item.replace(\".wav\", \"\")).replace(\"_\", \" \"))\n",
    "    if id==0:\n",
    "        chin_speed_pitch.append(files)\n",
    "        chin_speed_pitch.append(names)\n",
    "        list_of_lists.append(('chin_speed_pitch', chin_speed_pitch))\n",
    "    elif id==1:\n",
    "        eng_norm.append(files)\n",
    "        eng_norm.append(names)\n",
    "        list_of_lists.append(('eng_norm', eng_norm))\n",
    "    elif id==2:\n",
    "        pol.append(files)\n",
    "        pol.append(names)\n",
    "        list_of_lists.append(('pol', pol))\n",
    "    elif id==3:\n",
    "        eng_fast.append(files)\n",
    "        eng_fast.append(names)\n",
    "        list_of_lists.append(('eng_fast', eng_fast))\n",
    "    elif id==4:\n",
    "        indian_acc.append(files)\n",
    "        indian_acc.append(names)\n",
    "        list_of_lists.append(('indian_acc', indian_acc))\n",
    "\n",
    "for lst in list_of_lists:\n",
    "    print(lst)"
   ]
  },
  {
   "cell_type": "code",
   "execution_count": 60,
   "metadata": {},
   "outputs": [
    {
     "name": "stdout",
     "output_type": "stream",
     "text": [
      "public/chin_speed_pitch/spin_in_place.wav en-US\n",
      "public/chin_speed_pitch/go_forward.wav en-US\n",
      "public/chin_speed_pitch/stop.wav en-US\n",
      "public/chin_speed_pitch/go_backward_and_turn_right.wav en-US\n",
      "public/chin_speed_pitch/go_backward.wav en-US\n",
      "public/chin_speed_pitch/start_moving_forward.wav en-US\n",
      "public/chin_speed_pitch/go_forward_and_turn_left.wav en-US\n",
      "public/chin_speed_pitch/speed_05.wav en-US\n",
      "public/chin_speed_pitch/go_backward_and_turn_left.wav en-US\n",
      "public/chin_speed_pitch/go_forward_and_turn_right.wav en-US\n",
      "('chin_speed_pitch', [['public/chin_speed_pitch/spin_in_place.wav', 'public/chin_speed_pitch/go_forward.wav', 'public/chin_speed_pitch/stop.wav', 'public/chin_speed_pitch/go_backward_and_turn_right.wav', 'public/chin_speed_pitch/go_backward.wav', 'public/chin_speed_pitch/start_moving_forward.wav', 'public/chin_speed_pitch/go_forward_and_turn_left.wav', 'public/chin_speed_pitch/speed_05.wav', 'public/chin_speed_pitch/go_backward_and_turn_left.wav', 'public/chin_speed_pitch/go_forward_and_turn_right.wav'], ['spin in place', 'go forward', 'stop', 'go backward and turn right', 'go backward', 'start moving forward', 'go forward and turn left', 'speed 05', 'go backward and turn left', 'go forward and turn right'], [0.6666666666666666, 0.0, 1.0, 0.0, 0.5, 0.0, 0.0, 1.0, 0.0, 0.0]])\n",
      "public/eng_norm/spin_in_place.wav en-US\n",
      "public/eng_norm/go_forward.wav en-US\n",
      "public/eng_norm/stop.wav en-US\n",
      "public/eng_norm/go_backward_and_turn_right.wav en-US\n",
      "public/eng_norm/go_backward.wav en-US\n",
      "public/eng_norm/start_moving_forward.wav en-US\n",
      "public/eng_norm/go_forward_and_turn_left.wav en-US\n",
      "public/eng_norm/speed_05.wav en-US\n",
      "public/eng_norm/go_backward_and_turn_left.wav en-US\n",
      "public/eng_norm/go_forward_and_turn_right.wav en-US\n",
      "('eng_norm', [['public/eng_norm/spin_in_place.wav', 'public/eng_norm/go_forward.wav', 'public/eng_norm/stop.wav', 'public/eng_norm/go_backward_and_turn_right.wav', 'public/eng_norm/go_backward.wav', 'public/eng_norm/start_moving_forward.wav', 'public/eng_norm/go_forward_and_turn_left.wav', 'public/eng_norm/speed_05.wav', 'public/eng_norm/go_backward_and_turn_left.wav', 'public/eng_norm/go_forward_and_turn_right.wav'], ['spin in place', 'go forward', 'stop', 'go backward and turn right', 'go backward', 'start moving forward', 'go forward and turn left', 'speed 05', 'go backward and turn left', 'go forward and turn right'], [0.6666666666666666, 0.0, 0.0, 0.0, 0.5, 0.0, 0.0, 0.5, 0.0, 0.0]])\n",
      "public/pol/jedz_do_przodu_i_skrec_w_lewo.wav pl-PL\n",
      "public/pol/zacznij_ruch.wav pl-PL\n",
      "public/pol/jedz_do_tylu_i_skrec_w_lewo.wav pl-PL\n",
      "public/pol/predkosc_05.wav pl-PL\n",
      "public/pol/jedz_naprzod.wav pl-PL\n",
      "public/pol/jedz_do_tylu.wav pl-PL\n",
      "public/pol/zatrzymaj_sie.wav pl-PL\n",
      "public/pol/jedz_do_tylu_i_skrec_w_prawo.wav pl-PL\n",
      "public/pol/jedz_do_przodu_i_skrec_w_prawo.wav pl-PL\n",
      "public/pol/obroc_sie_w_miejscu.wav pl-PL\n",
      "('pol', [['public/pol/jedz_do_przodu_i_skrec_w_lewo.wav', 'public/pol/zacznij_ruch.wav', 'public/pol/jedz_do_tylu_i_skrec_w_lewo.wav', 'public/pol/predkosc_05.wav', 'public/pol/jedz_naprzod.wav', 'public/pol/jedz_do_tylu.wav', 'public/pol/zatrzymaj_sie.wav', 'public/pol/jedz_do_tylu_i_skrec_w_prawo.wav', 'public/pol/jedz_do_przodu_i_skrec_w_prawo.wav', 'public/pol/obroc_sie_w_miejscu.wav'], ['jedz do przodu i skrec w lewo', 'zacznij ruch', 'jedz do tylu i skrec w lewo', 'predkosc 05', 'jedz naprzod', 'jedz do tylu', 'zatrzymaj sie', 'jedz do tylu i skrec w prawo', 'jedz do przodu i skrec w prawo', 'obroc sie w miejscu'], [0.42857142857142855, 0.5, 0.5714285714285714, 1.0, 1.0, 0.6666666666666666, 0.5, 0.42857142857142855, 0.2857142857142857, 0.5]])\n",
      "public/eng_fast/spin_in_place.wav en-US\n",
      "public/eng_fast/go_forward.wav en-US\n",
      "public/eng_fast/stop.wav en-US\n",
      "public/eng_fast/go_backward_and_turn_right.wav en-US\n",
      "public/eng_fast/go_backward.wav en-US\n",
      "public/eng_fast/start_moving_forward.wav en-US\n",
      "public/eng_fast/go_forward_and_turn_left.wav en-US\n",
      "public/eng_fast/speed_05.wav en-US\n",
      "public/eng_fast/go_backward_and_turn_left.wav en-US\n",
      "public/eng_fast/go_forward_and_turn_right.wav en-US\n",
      "('eng_fast', [['public/eng_fast/spin_in_place.wav', 'public/eng_fast/go_forward.wav', 'public/eng_fast/stop.wav', 'public/eng_fast/go_backward_and_turn_right.wav', 'public/eng_fast/go_backward.wav', 'public/eng_fast/start_moving_forward.wav', 'public/eng_fast/go_forward_and_turn_left.wav', 'public/eng_fast/speed_05.wav', 'public/eng_fast/go_backward_and_turn_left.wav', 'public/eng_fast/go_forward_and_turn_right.wav'], ['spin in place', 'go forward', 'stop', 'go backward and turn right', 'go backward', 'start moving forward', 'go forward and turn left', 'speed 05', 'go backward and turn left', 'go forward and turn right'], [1.0, 1.0, 0.0, 0.4, 0.5, 0.3333333333333333, 0.2, 0.5, 0.2, 0.4]])\n",
      "public/indian_acc/spin_in_place.wav en-US\n",
      "public/indian_acc/go_forward.wav en-US\n",
      "public/indian_acc/stop.wav en-US\n",
      "public/indian_acc/go_backward_and_turn_right.wav en-US\n",
      "public/indian_acc/go_backward.wav en-US\n",
      "public/indian_acc/start_moving_forward.wav en-US\n",
      "public/indian_acc/go_forward_and_turn_left.wav en-US\n",
      "public/indian_acc/speed_05.wav en-US\n",
      "public/indian_acc/go_backward_and_turn_left.wav en-US\n",
      "public/indian_acc/go_forward_and_turn_right.wav en-US\n",
      "('indian_acc', [['public/indian_acc/spin_in_place.wav', 'public/indian_acc/go_forward.wav', 'public/indian_acc/stop.wav', 'public/indian_acc/go_backward_and_turn_right.wav', 'public/indian_acc/go_backward.wav', 'public/indian_acc/start_moving_forward.wav', 'public/indian_acc/go_forward_and_turn_left.wav', 'public/indian_acc/speed_05.wav', 'public/indian_acc/go_backward_and_turn_left.wav', 'public/indian_acc/go_forward_and_turn_right.wav'], ['spin in place', 'go forward', 'stop', 'go backward and turn right', 'go backward', 'start moving forward', 'go forward and turn left', 'speed 05', 'go backward and turn left', 'go forward and turn right'], [0.3333333333333333, 0.0, 1.0, 0.2, 0.5, 0.0, 0.0, 0.5, 0.2, 0.0]])\n"
     ]
    }
   ],
   "source": [
    "\n",
    "\n",
    "for lst in list_of_lists:\n",
    "    scores = []\n",
    "    if lst[0]=='pol':\n",
    "        lang = \"pl-PL\"\n",
    "    else:\n",
    "        lang = \"en-US\"\n",
    "        \n",
    "    for i in range(len(lst[1][0])):\n",
    "            reference = lst[1][1][i]\n",
    "            print(lst[1][0][i], lang)\n",
    "            hypothesis = audio_reco(lst[1][0][i], lang)\n",
    "            scores.append(wer(reference, hypothesis))\n",
    "    lst[1].append(scores)\n",
    "    print(lst)\n",
    "\n"
   ]
  },
  {
   "cell_type": "code",
   "execution_count": 72,
   "metadata": {},
   "outputs": [
    {
     "name": "stdout",
     "output_type": "stream",
     "text": [
      "[0.6666666666666666, 0.0, 1.0, 0.0, 0.5, 0.0, 0.0, 1.0, 0.0, 0.0]\n",
      "Average score of chin_speed_pitch: 0.31666666666666665\n",
      "[0.6666666666666666, 0.0, 0.0, 0.0, 0.5, 0.0, 0.0, 0.5, 0.0, 0.0]\n",
      "Average score of eng_norm: 0.16666666666666666\n",
      "[0.42857142857142855, 0.5, 0.5714285714285714, 1.0, 1.0, 0.6666666666666666, 0.5, 0.42857142857142855, 0.2857142857142857, 0.5]\n",
      "Average score of pol: 0.5880952380952381\n",
      "[1.0, 1.0, 0.0, 0.4, 0.5, 0.3333333333333333, 0.2, 0.5, 0.2, 0.4]\n",
      "Average score of eng_fast: 0.4533333333333334\n",
      "[0.3333333333333333, 0.0, 1.0, 0.2, 0.5, 0.0, 0.0, 0.5, 0.2, 0.0]\n",
      "Average score of indian_acc: 0.2733333333333333\n"
     ]
    }
   ],
   "source": [
    "averages = []\n",
    "\n",
    "for lst in list_of_lists:\n",
    "    print(lst[1][2])\n",
    "    ave = (sum(lst[1][2])/len(lst[1][2]))\n",
    "    averages.append(ave)\n",
    "    print(f\"Average score of {lst[0]}: {ave}\")"
   ]
  },
  {
   "cell_type": "code",
   "execution_count": 100,
   "metadata": {},
   "outputs": [
    {
     "data": {
      "image/png": "[encoded data removed]",
      "text/plain": [
       "<Figure size 640x480 with 1 Axes>"
      ]
     },
     "metadata": {},
     "output_type": "display_data"
    }
   ],
   "source": [
    "\n",
    "x = np.array([\"EN_HK_20_05\", \"EN\", \"PL\", \"EN_0_2\", \"EN_IN\"])\n",
    "y = np.array([0.31666666666666665, 0.16666666666666666, 0.5880952380952381, 0.4533333333333334, 0.2733333333333333])\n",
    "\n",
    "plt.bar(x,y)\n",
    "plt.xlabel(\"Zestaw danych\") \n",
    "plt.ylabel(\"Wartość błędu\") \n",
    "plt.grid()\n",
    "plt.show()"
   ]
  },
  {
   "cell_type": "code",
   "execution_count": 82,
   "metadata": {},
   "outputs": [
    {
     "name": "stdout",
     "output_type": "stream",
     "text": [
      "('chin_speed_pitch', [['public/chin_speed_pitch/spin_in_place.wav', 'public/chin_speed_pitch/go_forward.wav', 'public/chin_speed_pitch/stop.wav', 'public/chin_speed_pitch/go_backward_and_turn_right.wav', 'public/chin_speed_pitch/go_backward.wav', 'public/chin_speed_pitch/start_moving_forward.wav', 'public/chin_speed_pitch/go_forward_and_turn_left.wav', 'public/chin_speed_pitch/speed_05.wav', 'public/chin_speed_pitch/go_backward_and_turn_left.wav', 'public/chin_speed_pitch/go_forward_and_turn_right.wav'], ['spin in place', 'go forward', 'stop', 'go backward and turn right', 'go backward', 'start moving forward', 'go forward and turn left', 'speed 05', 'go backward and turn left', 'go forward and turn right'], []])\n",
      "('eng_norm', [['public/eng_norm/spin_in_place.wav', 'public/eng_norm/go_forward.wav', 'public/eng_norm/stop.wav', 'public/eng_norm/go_backward_and_turn_right.wav', 'public/eng_norm/go_backward.wav', 'public/eng_norm/start_moving_forward.wav', 'public/eng_norm/go_forward_and_turn_left.wav', 'public/eng_norm/speed_05.wav', 'public/eng_norm/go_backward_and_turn_left.wav', 'public/eng_norm/go_forward_and_turn_right.wav'], ['spin in place', 'go forward', 'stop', 'go backward and turn right', 'go backward', 'start moving forward', 'go forward and turn left', 'speed 05', 'go backward and turn left', 'go forward and turn right'], []])\n",
      "('pol', [['public/pol/jedz_do_przodu_i_skrec_w_lewo.wav', 'public/pol/zacznij_ruch.wav', 'public/pol/jedz_do_tylu_i_skrec_w_lewo.wav', 'public/pol/predkosc_05.wav', 'public/pol/jedz_naprzod.wav', 'public/pol/jedz_do_tylu.wav', 'public/pol/zatrzymaj_sie.wav', 'public/pol/jedz_do_tylu_i_skrec_w_prawo.wav', 'public/pol/jedz_do_przodu_i_skrec_w_prawo.wav', 'public/pol/obroc_sie_w_miejscu.wav'], ['jedz do przodu i skrec w lewo', 'zacznij ruch', 'jedz do tylu i skrec w lewo', 'predkosc 05', 'jedz naprzod', 'jedz do tylu', 'zatrzymaj sie', 'jedz do tylu i skrec w prawo', 'jedz do przodu i skrec w prawo', 'obroc sie w miejscu'], [0.14285714285714285, 0.5, 0.14285714285714285, 0.5, 0.5, 0.3333333333333333, 0.5, 0.0, 0.0, 0.0]])\n",
      "('eng_fast', [['public/eng_fast/spin_in_place.wav', 'public/eng_fast/go_forward.wav', 'public/eng_fast/stop.wav', 'public/eng_fast/go_backward_and_turn_right.wav', 'public/eng_fast/go_backward.wav', 'public/eng_fast/start_moving_forward.wav', 'public/eng_fast/go_forward_and_turn_left.wav', 'public/eng_fast/speed_05.wav', 'public/eng_fast/go_backward_and_turn_left.wav', 'public/eng_fast/go_forward_and_turn_right.wav'], ['spin in place', 'go forward', 'stop', 'go backward and turn right', 'go backward', 'start moving forward', 'go forward and turn left', 'speed 05', 'go backward and turn left', 'go forward and turn right'], []])\n",
      "('indian_acc', [['public/indian_acc/spin_in_place.wav', 'public/indian_acc/go_forward.wav', 'public/indian_acc/stop.wav', 'public/indian_acc/go_backward_and_turn_right.wav', 'public/indian_acc/go_backward.wav', 'public/indian_acc/start_moving_forward.wav', 'public/indian_acc/go_forward_and_turn_left.wav', 'public/indian_acc/speed_05.wav', 'public/indian_acc/go_backward_and_turn_left.wav', 'public/indian_acc/go_forward_and_turn_right.wav'], ['spin in place', 'go forward', 'stop', 'go backward and turn right', 'go backward', 'start moving forward', 'go forward and turn left', 'speed 05', 'go backward and turn left', 'go forward and turn right'], []])\n"
     ]
    }
   ],
   "source": [
    "for lst in list_of_lists:\n",
    "    print(lst)\n",
    "    # if lst[0]==\"pol\":\n",
    "    #     print(lst[1][1])"
   ]
  },
  {
   "cell_type": "code",
   "execution_count": 78,
   "metadata": {},
   "outputs": [
    {
     "name": "stdout",
     "output_type": "stream",
     "text": [
      "jedź do przodu i skręć w lewo\n"
     ]
    }
   ],
   "source": [
    "newlist_pl=['jedź do przodu i skręć w lewo', \n",
    "            'zacznij ruch', \n",
    "            'jedź do tyłu i skręć w lewo', \n",
    "            'prędkość 05', \n",
    "            'jedź naprzód', \n",
    "            'jedź do tyłu', \n",
    "            'zatrzymaj się', \n",
    "            'jedź do tyłu i skręć w prawo', \n",
    "            'jedź do przodu i skręć w prawo', \n",
    "            'obróć się w miejscu']\n",
    "print(newlist_pl[0])"
   ]
  },
  {
   "cell_type": "code",
   "execution_count": 83,
   "metadata": {},
   "outputs": [
    {
     "name": "stdout",
     "output_type": "stream",
     "text": [
      "[('chin_speed_pitch', [['public/chin_speed_pitch/spin_in_place.wav', 'public/chin_speed_pitch/go_forward.wav', 'public/chin_speed_pitch/stop.wav', 'public/chin_speed_pitch/go_backward_and_turn_right.wav', 'public/chin_speed_pitch/go_backward.wav', 'public/chin_speed_pitch/start_moving_forward.wav', 'public/chin_speed_pitch/go_forward_and_turn_left.wav', 'public/chin_speed_pitch/speed_05.wav', 'public/chin_speed_pitch/go_backward_and_turn_left.wav', 'public/chin_speed_pitch/go_forward_and_turn_right.wav'], ['spin in place', 'go forward', 'stop', 'go backward and turn right', 'go backward', 'start moving forward', 'go forward and turn left', 'speed 05', 'go backward and turn left', 'go forward and turn right'], []]), ('eng_norm', [['public/eng_norm/spin_in_place.wav', 'public/eng_norm/go_forward.wav', 'public/eng_norm/stop.wav', 'public/eng_norm/go_backward_and_turn_right.wav', 'public/eng_norm/go_backward.wav', 'public/eng_norm/start_moving_forward.wav', 'public/eng_norm/go_forward_and_turn_left.wav', 'public/eng_norm/speed_05.wav', 'public/eng_norm/go_backward_and_turn_left.wav', 'public/eng_norm/go_forward_and_turn_right.wav'], ['spin in place', 'go forward', 'stop', 'go backward and turn right', 'go backward', 'start moving forward', 'go forward and turn left', 'speed 05', 'go backward and turn left', 'go forward and turn right'], []]), ('pol', [['public/pol/jedz_do_przodu_i_skrec_w_lewo.wav', 'public/pol/zacznij_ruch.wav', 'public/pol/jedz_do_tylu_i_skrec_w_lewo.wav', 'public/pol/predkosc_05.wav', 'public/pol/jedz_naprzod.wav', 'public/pol/jedz_do_tylu.wav', 'public/pol/zatrzymaj_sie.wav', 'public/pol/jedz_do_tylu_i_skrec_w_prawo.wav', 'public/pol/jedz_do_przodu_i_skrec_w_prawo.wav', 'public/pol/obroc_sie_w_miejscu.wav'], ['jedz do przodu i skrec w lewo', 'zacznij ruch', 'jedz do tylu i skrec w lewo', 'predkosc 05', 'jedz naprzod', 'jedz do tylu', 'zatrzymaj sie', 'jedz do tylu i skrec w prawo', 'jedz do przodu i skrec w prawo', 'obroc sie w miejscu'], [0.14285714285714285, 0.5, 0.14285714285714285, 0.5, 0.5, 0.3333333333333333, 0.5, 0.0, 0.0, 0.0]]), ('eng_fast', [['public/eng_fast/spin_in_place.wav', 'public/eng_fast/go_forward.wav', 'public/eng_fast/stop.wav', 'public/eng_fast/go_backward_and_turn_right.wav', 'public/eng_fast/go_backward.wav', 'public/eng_fast/start_moving_forward.wav', 'public/eng_fast/go_forward_and_turn_left.wav', 'public/eng_fast/speed_05.wav', 'public/eng_fast/go_backward_and_turn_left.wav', 'public/eng_fast/go_forward_and_turn_right.wav'], ['spin in place', 'go forward', 'stop', 'go backward and turn right', 'go backward', 'start moving forward', 'go forward and turn left', 'speed 05', 'go backward and turn left', 'go forward and turn right'], []]), ('indian_acc', [['public/indian_acc/spin_in_place.wav', 'public/indian_acc/go_forward.wav', 'public/indian_acc/stop.wav', 'public/indian_acc/go_backward_and_turn_right.wav', 'public/indian_acc/go_backward.wav', 'public/indian_acc/start_moving_forward.wav', 'public/indian_acc/go_forward_and_turn_left.wav', 'public/indian_acc/speed_05.wav', 'public/indian_acc/go_backward_and_turn_left.wav', 'public/indian_acc/go_forward_and_turn_right.wav'], ['spin in place', 'go forward', 'stop', 'go backward and turn right', 'go backward', 'start moving forward', 'go forward and turn left', 'speed 05', 'go backward and turn left', 'go forward and turn right'], []])]\n"
     ]
    }
   ],
   "source": [
    "list_of_lists_2 = list_of_lists.copy()\n",
    "print(list_of_lists_2)"
   ]
  },
  {
   "cell_type": "code",
   "execution_count": 86,
   "metadata": {},
   "outputs": [
    {
     "name": "stdout",
     "output_type": "stream",
     "text": [
      "('chin_speed_pitch', [['public/chin_speed_pitch/spin_in_place.wav', 'public/chin_speed_pitch/go_forward.wav', 'public/chin_speed_pitch/stop.wav', 'public/chin_speed_pitch/go_backward_and_turn_right.wav', 'public/chin_speed_pitch/go_backward.wav', 'public/chin_speed_pitch/start_moving_forward.wav', 'public/chin_speed_pitch/go_forward_and_turn_left.wav', 'public/chin_speed_pitch/speed_05.wav', 'public/chin_speed_pitch/go_backward_and_turn_left.wav', 'public/chin_speed_pitch/go_forward_and_turn_right.wav'], ['spin in place', 'go forward', 'stop', 'go backward and turn right', 'go backward', 'start moving forward', 'go forward and turn left', 'speed 05', 'go backward and turn left', 'go forward and turn right'], [0.6666666666666666, 0.0, 1.0, 0.0, 0.5, 0.0, 0.0, 1.0, 0.0, 0.0]])\n",
      "('eng_norm', [['public/eng_norm/spin_in_place.wav', 'public/eng_norm/go_forward.wav', 'public/eng_norm/stop.wav', 'public/eng_norm/go_backward_and_turn_right.wav', 'public/eng_norm/go_backward.wav', 'public/eng_norm/start_moving_forward.wav', 'public/eng_norm/go_forward_and_turn_left.wav', 'public/eng_norm/speed_05.wav', 'public/eng_norm/go_backward_and_turn_left.wav', 'public/eng_norm/go_forward_and_turn_right.wav'], ['spin in place', 'go forward', 'stop', 'go backward and turn right', 'go backward', 'start moving forward', 'go forward and turn left', 'speed 05', 'go backward and turn left', 'go forward and turn right'], [0.6666666666666666, 0.0, 0.0, 0.0, 0.5, 0.0, 0.0, 0.5, 0.0, 0.0]])\n",
      "('pol', [['public/pol/jedz_do_przodu_i_skrec_w_lewo.wav', 'public/pol/zacznij_ruch.wav', 'public/pol/jedz_do_tylu_i_skrec_w_lewo.wav', 'public/pol/predkosc_05.wav', 'public/pol/jedz_naprzod.wav', 'public/pol/jedz_do_tylu.wav', 'public/pol/zatrzymaj_sie.wav', 'public/pol/jedz_do_tylu_i_skrec_w_prawo.wav', 'public/pol/jedz_do_przodu_i_skrec_w_prawo.wav', 'public/pol/obroc_sie_w_miejscu.wav'], ['jedz do przodu i skrec w lewo', 'zacznij ruch', 'jedz do tylu i skrec w lewo', 'predkosc 05', 'jedz naprzod', 'jedz do tylu', 'zatrzymaj sie', 'jedz do tylu i skrec w prawo', 'jedz do przodu i skrec w prawo', 'obroc sie w miejscu'], [0.14285714285714285, 0.5, 0.14285714285714285, 0.5, 0.5, 0.3333333333333333, 0.5, 0.0, 0.0, 0.0]])\n",
      "('eng_fast', [['public/eng_fast/spin_in_place.wav', 'public/eng_fast/go_forward.wav', 'public/eng_fast/stop.wav', 'public/eng_fast/go_backward_and_turn_right.wav', 'public/eng_fast/go_backward.wav', 'public/eng_fast/start_moving_forward.wav', 'public/eng_fast/go_forward_and_turn_left.wav', 'public/eng_fast/speed_05.wav', 'public/eng_fast/go_backward_and_turn_left.wav', 'public/eng_fast/go_forward_and_turn_right.wav'], ['spin in place', 'go forward', 'stop', 'go backward and turn right', 'go backward', 'start moving forward', 'go forward and turn left', 'speed 05', 'go backward and turn left', 'go forward and turn right'], [1.0, 1.0, 0.0, 0.4, 0.5, 0.3333333333333333, 0.2, 0.5, 0.2, 0.4]])\n",
      "('indian_acc', [['public/indian_acc/spin_in_place.wav', 'public/indian_acc/go_forward.wav', 'public/indian_acc/stop.wav', 'public/indian_acc/go_backward_and_turn_right.wav', 'public/indian_acc/go_backward.wav', 'public/indian_acc/start_moving_forward.wav', 'public/indian_acc/go_forward_and_turn_left.wav', 'public/indian_acc/speed_05.wav', 'public/indian_acc/go_backward_and_turn_left.wav', 'public/indian_acc/go_forward_and_turn_right.wav'], ['spin in place', 'go forward', 'stop', 'go backward and turn right', 'go backward', 'start moving forward', 'go forward and turn left', 'speed 05', 'go backward and turn left', 'go forward and turn right'], [0.3333333333333333, 0.0, 1.0, 0.2, 0.5, 0.0, 0.0, 0.5, 0.2, 0.0]])\n"
     ]
    }
   ],
   "source": [
    "# list_of_lists_2=list_of_lists\n",
    "\n",
    "for lst in list_of_lists:\n",
    "    scores = []\n",
    "    if lst[0]=='pol':\n",
    "        lang = \"pl-PL\"\n",
    "        # for i in range(len(lst[1][0])):\n",
    "        #     # reference = lst[1][1][i]\n",
    "        #     reference = newlist_pl[i]\n",
    "        #     print(lst[1][0][i], lang)\n",
    "        #     hypothesis = audio_reco(lst[1][0][i], lang)\n",
    "        #     scores.append(wer(reference, hypothesis))\n",
    "        #     lst[1][2]=scores\n",
    "    elif lst[0]=='chin_speed_pitch':\n",
    "        lst[1][2]=[0.6666666666666666, 0.0, 1.0, 0.0, 0.5, 0.0, 0.0, 1.0, 0.0, 0.0]\n",
    "    elif lst[0]=='eng_norm':\n",
    "        lst[1][2]=[0.6666666666666666, 0.0, 0.0, 0.0, 0.5, 0.0, 0.0, 0.5, 0.0, 0.0]\n",
    "    elif lst[0]=='eng_fast':\n",
    "        lst[1][2]=[1.0, 1.0, 0.0, 0.4, 0.5, 0.3333333333333333, 0.2, 0.5, 0.2, 0.4]\n",
    "    elif lst[0]=='indian_acc':\n",
    "        lst[1][2]=[0.3333333333333333, 0.0, 1.0, 0.2, 0.5, 0.0, 0.0, 0.5, 0.2, 0.0]\n",
    "        \n",
    "    \n",
    "    \n",
    "    print(lst)"
   ]
  },
  {
   "cell_type": "code",
   "execution_count": 87,
   "metadata": {},
   "outputs": [
    {
     "name": "stdout",
     "output_type": "stream",
     "text": [
      "[0.6666666666666666, 0.0, 1.0, 0.0, 0.5, 0.0, 0.0, 1.0, 0.0, 0.0]\n",
      "Average score of chin_speed_pitch: 0.31666666666666665\n",
      "[0.6666666666666666, 0.0, 0.0, 0.0, 0.5, 0.0, 0.0, 0.5, 0.0, 0.0]\n",
      "Average score of eng_norm: 0.16666666666666666\n",
      "[0.14285714285714285, 0.5, 0.14285714285714285, 0.5, 0.5, 0.3333333333333333, 0.5, 0.0, 0.0, 0.0]\n",
      "Average score of pol: 0.2619047619047619\n",
      "[1.0, 1.0, 0.0, 0.4, 0.5, 0.3333333333333333, 0.2, 0.5, 0.2, 0.4]\n",
      "Average score of eng_fast: 0.4533333333333334\n",
      "[0.3333333333333333, 0.0, 1.0, 0.2, 0.5, 0.0, 0.0, 0.5, 0.2, 0.0]\n",
      "Average score of indian_acc: 0.2733333333333333\n"
     ]
    }
   ],
   "source": [
    "averages = []\n",
    "\n",
    "for lst in list_of_lists:\n",
    "    print(lst[1][2])\n",
    "    ave = (sum(lst[1][2])/len(lst[1][2]))\n",
    "    averages.append(ave)\n",
    "    print(f\"Average score of {lst[0]}: {ave}\")"
   ]
  },
  {
   "cell_type": "code",
   "execution_count": 101,
   "metadata": {},
   "outputs": [
    {
     "data": {
      "image/png": "[encoded data removed]",
      "text/plain": [
       "<Figure size 640x480 with 1 Axes>"
      ]
     },
     "metadata": {},
     "output_type": "display_data"
    }
   ],
   "source": [
    "x = np.array([\"EN_HK_20_05\", \"EN\", \"PL\", \"EN_0_2\", \"EN_IN\"])\n",
    "y = np.array(averages)\n",
    "\n",
    "plt.bar(x,y)\n",
    "plt.xlabel(\"Zestaw danych\") \n",
    "plt.ylabel(\"Wartość błędu\") \n",
    "plt.grid()\n",
    "plt.show()"
   ]
  },
  {
   "cell_type": "code",
   "execution_count": 95,
   "metadata": {},
   "outputs": [
    {
     "name": "stdout",
     "output_type": "stream",
     "text": [
      "('chin_speed_pitch', [['public/chin_speed_pitch/spin_in_place.wav', 'public/chin_speed_pitch/go_forward.wav', 'public/chin_speed_pitch/stop.wav', 'public/chin_speed_pitch/go_backward_and_turn_right.wav', 'public/chin_speed_pitch/go_backward.wav', 'public/chin_speed_pitch/start_moving_forward.wav', 'public/chin_speed_pitch/go_forward_and_turn_left.wav', 'public/chin_speed_pitch/speed_05.wav', 'public/chin_speed_pitch/go_backward_and_turn_left.wav', 'public/chin_speed_pitch/go_forward_and_turn_right.wav'], ['spin in place', 'go forward', 'stop', 'go backward and turn right', 'go backward', 'start moving forward', 'go forward and turn left', 'speed 05', 'go backward and turn left', 'go forward and turn right'], [0.6666666666666666, 0.0, 1.0, 0.0, 0.5, 0.0, 0.0, 1.0, 0.0, 0.0], [0.6666666666666666, 0.0, 1.0, 0.5, 1.0], [0.0, 0.0, 0.0, 0.0, 0.0]])\n",
      "('eng_norm', [['public/eng_norm/spin_in_place.wav', 'public/eng_norm/go_forward.wav', 'public/eng_norm/stop.wav', 'public/eng_norm/go_backward_and_turn_right.wav', 'public/eng_norm/go_backward.wav', 'public/eng_norm/start_moving_forward.wav', 'public/eng_norm/go_forward_and_turn_left.wav', 'public/eng_norm/speed_05.wav', 'public/eng_norm/go_backward_and_turn_left.wav', 'public/eng_norm/go_forward_and_turn_right.wav'], ['spin in place', 'go forward', 'stop', 'go backward and turn right', 'go backward', 'start moving forward', 'go forward and turn left', 'speed 05', 'go backward and turn left', 'go forward and turn right'], [0.6666666666666666, 0.0, 0.0, 0.0, 0.5, 0.0, 0.0, 0.5, 0.0, 0.0], [0.6666666666666666, 0.0, 0.0, 0.5, 0.5], [0.0, 0.0, 0.0, 0.0, 0.0]])\n",
      "('pol', [['public/pol/jedz_do_przodu_i_skrec_w_lewo.wav', 'public/pol/zacznij_ruch.wav', 'public/pol/jedz_do_tylu_i_skrec_w_lewo.wav', 'public/pol/predkosc_05.wav', 'public/pol/jedz_naprzod.wav', 'public/pol/jedz_do_tylu.wav', 'public/pol/zatrzymaj_sie.wav', 'public/pol/jedz_do_tylu_i_skrec_w_prawo.wav', 'public/pol/jedz_do_przodu_i_skrec_w_prawo.wav', 'public/pol/obroc_sie_w_miejscu.wav'], ['jedz do przodu i skrec w lewo', 'zacznij ruch', 'jedz do tylu i skrec w lewo', 'predkosc 05', 'jedz naprzod', 'jedz do tylu', 'zatrzymaj sie', 'jedz do tylu i skrec w prawo', 'jedz do przodu i skrec w prawo', 'obroc sie w miejscu'], [0.14285714285714285, 0.5, 0.14285714285714285, 0.5, 0.5, 0.3333333333333333, 0.5, 0.0, 0.0, 0.0], [0.5, 0.5, 0.5, 0.3333333333333333, 0.5], [0.14285714285714285, 0.14285714285714285, 0.0, 0.0, 0.0]])\n",
      "('eng_fast', [['public/eng_fast/spin_in_place.wav', 'public/eng_fast/go_forward.wav', 'public/eng_fast/stop.wav', 'public/eng_fast/go_backward_and_turn_right.wav', 'public/eng_fast/go_backward.wav', 'public/eng_fast/start_moving_forward.wav', 'public/eng_fast/go_forward_and_turn_left.wav', 'public/eng_fast/speed_05.wav', 'public/eng_fast/go_backward_and_turn_left.wav', 'public/eng_fast/go_forward_and_turn_right.wav'], ['spin in place', 'go forward', 'stop', 'go backward and turn right', 'go backward', 'start moving forward', 'go forward and turn left', 'speed 05', 'go backward and turn left', 'go forward and turn right'], [1.0, 1.0, 0.0, 0.4, 0.5, 0.3333333333333333, 0.2, 0.5, 0.2, 0.4], [1.0, 1.0, 0.0, 0.5, 0.5], [0.4, 0.3333333333333333, 0.2, 0.2, 0.4]])\n",
      "('indian_acc', [['public/indian_acc/spin_in_place.wav', 'public/indian_acc/go_forward.wav', 'public/indian_acc/stop.wav', 'public/indian_acc/go_backward_and_turn_right.wav', 'public/indian_acc/go_backward.wav', 'public/indian_acc/start_moving_forward.wav', 'public/indian_acc/go_forward_and_turn_left.wav', 'public/indian_acc/speed_05.wav', 'public/indian_acc/go_backward_and_turn_left.wav', 'public/indian_acc/go_forward_and_turn_right.wav'], ['spin in place', 'go forward', 'stop', 'go backward and turn right', 'go backward', 'start moving forward', 'go forward and turn left', 'speed 05', 'go backward and turn left', 'go forward and turn right'], [0.3333333333333333, 0.0, 1.0, 0.2, 0.5, 0.0, 0.0, 0.5, 0.2, 0.0], [0.3333333333333333, 0.0, 1.0, 0.5, 0.5], [0.2, 0.0, 0.0, 0.2, 0.0]])\n"
     ]
    }
   ],
   "source": [
    "\n",
    "\n",
    "for lst in list_of_lists:\n",
    "    scores_short = []\n",
    "    scores_long = []\n",
    "    for id, item in enumerate(lst[1][1]):\n",
    "        if len(item)<=15:\n",
    "            # print(lst[0],\": \", item, lst[1][2][id])\n",
    "            scores_short.append(lst[1][2][id])\n",
    "        else:\n",
    "            # print(lst[0],\": \", item, lst[1][2][id])\n",
    "            scores_long.append(lst[1][2][id])\n",
    "    # print(lst[0], scores_short)\n",
    "    # print(lst[0], scores_long)\n",
    "    # print(lst[1][1])\n",
    "    lst[1].append(scores_short)\n",
    "    lst[1].append(scores_long)\n",
    "    print(lst)\n"
   ]
  },
  {
   "cell_type": "code",
   "execution_count": 97,
   "metadata": {},
   "outputs": [
    {
     "name": "stdout",
     "output_type": "stream",
     "text": [
      "Average short score of chin_speed_pitch: 0.6333333333333333\n",
      "Average long score of chin_speed_pitch: 0.0\n",
      "Average short score of eng_norm: 0.3333333333333333\n",
      "Average long score of eng_norm: 0.0\n",
      "Average short score of pol: 0.4666666666666666\n",
      "Average long score of pol: 0.05714285714285714\n",
      "Average short score of eng_fast: 0.6\n",
      "Average long score of eng_fast: 0.30666666666666664\n",
      "Average short score of indian_acc: 0.4666666666666666\n",
      "Average long score of indian_acc: 0.08\n"
     ]
    }
   ],
   "source": [
    "averages_short = []\n",
    "averages_long = []\n",
    "\n",
    "for lst in list_of_lists:\n",
    "    # print(lst[1][3])\n",
    "    ave_sh = (sum(lst[1][3])/len(lst[1][3]))\n",
    "    averages_short.append(ave_sh)\n",
    "    print(f\"Average short score of {lst[0]}: {ave_sh}\")\n",
    "\n",
    "    # print(lst[1][4])\n",
    "    ave_lg = (sum(lst[1][4])/len(lst[1][4]))\n",
    "    averages_long.append(ave_lg)\n",
    "    print(f\"Average long score of {lst[0]}: {ave_lg}\")"
   ]
  },
  {
   "cell_type": "code",
   "execution_count": 99,
   "metadata": {},
   "outputs": [
    {
     "data": {
      "image/png": "[encoded data removed]",
      "text/plain": [
       "<Figure size 640x480 with 1 Axes>"
      ]
     },
     "metadata": {},
     "output_type": "display_data"
    }
   ],
   "source": [
    "x = np.array([\"EN_HK_20_05\", \"EN\", \"PL\", \"EN_0_2\", \"EN_IN\"])\n",
    "y = np.array(averages_short)\n",
    "z = np.array(averages_long)\n",
    "\n",
    "x_axis = np.arange(len(x))\n",
    "\n",
    "plt.bar(x_axis - 0.2, y, 0.4, label = 'słowa krótkie') \n",
    "plt.bar(x_axis + 0.2, z, 0.4, label = 'słowa długie') \n",
    "  \n",
    "plt.xticks(x_axis, x) \n",
    "plt.xlabel(\"Zestaw danych\") \n",
    "plt.ylabel(\"Wartość błędu\") \n",
    "# plt.title(\"Number of Students in each group\") \n",
    "plt.legend() \n",
    "plt.grid()\n",
    "plt.show() \n",
    "\n",
    "# plt.bar(x,y)\n",
    "# plt.grid()\n",
    "# plt.show()"
   ]
  }
 ],
 "metadata": {
  "kernelspec": {
   "display_name": "Python 3",
   "language": "python",
   "name": "python3"
  },
  "language_info": {
   "codemirror_mode": {
    "name": "ipython",
    "version": 3
   },
   "file_extension": ".py",
   "mimetype": "text/x-python",
   "name": "python",
   "nbconvert_exporter": "python",
   "pygments_lexer": "ipython3",
   "version": "3.8.10"
  }
 },
 "nbformat": 4,
 "nbformat_minor": 2
}
